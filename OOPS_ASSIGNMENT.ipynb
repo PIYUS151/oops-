{
  "nbformat": 4,
  "nbformat_minor": 0,
  "metadata": {
    "colab": {
      "provenance": []
    },
    "kernelspec": {
      "name": "python3",
      "display_name": "Python 3"
    },
    "language_info": {
      "name": "python"
    }
  },
  "cells": [
    {
      "cell_type": "markdown",
      "source": [
        "# OOPS ASSIGNMENT\n",
        "\n",
        "## PYTHON OOPS ASSIGNMENT\n",
        "\n",
        "\n",
        "\n"
      ],
      "metadata": {
        "id": "NAIHfYlwETDB"
      }
    },
    {
      "cell_type": "markdown",
      "source": [
        "**1. What is Object-Oriented Programming (OOP)?**\n",
        "\n",
        "   ->Object-Oriented Programming is a programming paradigm that organizes and models real-world entities into classes and objects. It emphasizes concepts like inheritance, encapsulation, polymorphism, and abstraction to enhance code reusability, scalability, and maintainability."
      ],
      "metadata": {
        "id": "ipqIVaAKEZ-f"
      }
    },
    {
      "cell_type": "markdown",
      "source": [
        "**2. What is a class in OOP?**\n",
        "\n",
        "   ->A class is a blueprint or template that defines the structure and behavior (methods and properties) of objects. For example:\n",
        "\n",
        "        class Car:\n",
        "        def __init__(self, brand, model):\n",
        "        self.brand = brand\n",
        "        self.model = model\n",
        "\n",
        "\n",
        "\n"
      ],
      "metadata": {
        "id": "CG-0_JH9GTDV"
      }
    },
    {
      "cell_type": "markdown",
      "source": [
        "**3. What is an object in OOP?**\n",
        "\n",
        "   ->An object is an instance of a class. It encapsulates data and functions defined in the class. For example:\n",
        "\n",
        "      y_car = Camr(\"Toyota\", \"Corolla\")"
      ],
      "metadata": {
        "id": "kUtCzTojGS8M"
      }
    },
    {
      "cell_type": "markdown",
      "source": [
        "**4. What is the difference between abstraction and encapsulation?**\n",
        "\n",
        "   ->Abstraction focuses on hiding implementation details and showing only essential features.\n",
        "\n",
        "   ->Encapsulation binds data and methods together and restricts direct access to some of the object's components to protect integrity.\n",
        "\n"
      ],
      "metadata": {
        "id": "Tq8RO7pKGS0p"
      }
    },
    {
      "cell_type": "markdown",
      "source": [
        "**5. What are dunder methods in Python?**\n",
        "\n",
        "->Dunder (double underscore) methods are special methods in Python with names starting and ending with double underscores, like __init__, __str__, __repr__. They provide object-specific behaviors."
      ],
      "metadata": {
        "id": "PdDxXwqXGSr6"
      }
    },
    {
      "cell_type": "markdown",
      "source": [
        "**6. Explain the concept of inheritance in OOP?**\n",
        "\n",
        "   ->Inheritance allows a class (child) to derive attributes and methods from another class (parent). It promotes code reuse. Example:\n",
        "\n",
        "      class Animal:\n",
        "         def speak(self):\n",
        "           return \"Generic sound\"\n",
        "\n",
        "     class Dog(Animal):\n",
        "       def speak(self):\n",
        "          return \"Bark!\""
      ],
      "metadata": {
        "id": "keLFY8uKHQdG"
      }
    },
    {
      "cell_type": "markdown",
      "source": [
        "**7. What is polymorphism in OOP?**\n",
        "\n",
        "   ->Polymorphism allows objects of different classes to be treated as objects of a common super class. Example:\n",
        "\n",
        "     class Bird:\n",
        "       def fly(self):\n",
        "         return \"Flying\"\n",
        "\n",
        "     class Penguin(Bird):\n",
        "       def fly(self):\n",
        "         return \"Cannot fly\""
      ],
      "metadata": {
        "id": "FFnLVFzAHSzu"
      }
    },
    {
      "cell_type": "markdown",
      "source": [
        "**8. How is encapsulation achieved in Python?**\n",
        "\n",
        "   ->Encapsulation is achieved by:\n",
        "\n",
        "Defining private attributes/methods using underscores (e.g., _protected, __private).\n",
        "\n",
        "Using getter and setter methods.\n",
        "\n"
      ],
      "metadata": {
        "id": "XcLUQ3X9HSs2"
      }
    },
    {
      "cell_type": "markdown",
      "source": [
        "**9. What is a constructor in Python?**\n",
        "\n",
        "   ->A constructor is a special method, __init__, automatically called when an object is created. It initializes the object’s attributes.\n",
        "\n",
        "     class Person:\n",
        "    def __init__(self, name):\n",
        "        self.name = name"
      ],
      "metadata": {
        "id": "ZZSvRgrpHSmC"
      }
    },
    {
      "cell_type": "markdown",
      "source": [
        "**10. What are class and static methods in Python?**\n",
        "\n",
        "  ->Class methods: Defined using @classmethod, operate on class-level attributes.\n",
        "\n",
        "Static methods: Defined using @staticmethod, do not operate on class or instance attributes.\n",
        "\n",
        "Example:\n",
        "\n",
        "     class Example:\n",
        "    @classmethod\n",
        "    def class_method(cls):\n",
        "        pass\n",
        "\n",
        "    @staticmethod\n",
        "    def static_method():\n",
        "        pass"
      ],
      "metadata": {
        "id": "xhmD_4LjHSfR"
      }
    },
    {
      "cell_type": "markdown",
      "source": [
        "\n",
        "**11. What is method overloading in Python?**\n",
        "\n",
        "   ->Method overloading is creating multiple methods with the same name but different parameters. Python does not support it natively but can be implemented using default arguments or variable arguments (*args)."
      ],
      "metadata": {
        "id": "VmP9uCO0HSZQ"
      }
    },
    {
      "cell_type": "markdown",
      "source": [
        "**12. What is method overriding in OOP?**\n",
        "\n",
        "   ->Method overriding occurs when a subclass provides a specific implementation of a method already defined in its parent class."
      ],
      "metadata": {
        "id": "kBbqwqI7HSSx"
      }
    },
    {
      "cell_type": "markdown",
      "source": [
        "**13. What is a property decorator in Python?**\n",
        "  ->The @property decorator is used to define a method as a property, allowing it to be accessed like an attribute.\n",
        "\n",
        "    class Circle:\n",
        "    def __init__(self, radius):\n",
        "        self._radius = radius\n",
        "\n",
        "    @property\n",
        "    def radius(self):\n",
        "        return self._radius"
      ],
      "metadata": {
        "id": "lRxvfIODHSMY"
      }
    },
    {
      "cell_type": "markdown",
      "source": [
        "**14. Why is polymorphism important in OOP?**\n",
        "\n",
        "  ->Polymorphism enhances flexibility and maintainability by allowing different objects to be treated as instances of the same superclass, enabling dynamic method calls.\n",
        "\n"
      ],
      "metadata": {
        "id": "YbwKWwVeHSGB"
      }
    },
    {
      "cell_type": "markdown",
      "source": [
        "**15. What is an abstract class in Python?**\n",
        "\n",
        "  ->An abstract class is a class with at least one abstract method (defined using @abstractmethod). It cannot be instantiated directly."
      ],
      "metadata": {
        "id": "1Uusfl-KHR-4"
      }
    },
    {
      "cell_type": "markdown",
      "source": [
        "***16. What are the advantages of OOP?***\n",
        "\n",
        "->Code reusability through inheritance.\n",
        "\n",
        "->Scalability and modularity.\n",
        "\n",
        "->Easier troubleshooting and maintenance."
      ],
      "metadata": {
        "id": "ks98pQOCHR3g"
      }
    },
    {
      "cell_type": "markdown",
      "source": [
        "**17. What is the difference between a class variable and an instance variable?**\n",
        "\n",
        "->Class variable: Shared across all instances of a class.\n",
        "\n",
        "->Instance variable: Unique to each object instance.\n",
        "\n"
      ],
      "metadata": {
        "id": "pHS40JaCHRwQ"
      }
    },
    {
      "cell_type": "markdown",
      "source": [
        "**18. What is multiple inheritance in Python?**\n",
        "\n",
        "   ->Multiple inheritance allows a class to inherit from more than one base class. Example:\n",
        "\n",
        "    class A:\n",
        "      pass\n",
        "    class B:\n",
        "      pass\n",
        "    class C(A, B):\n",
        "      pass"
      ],
      "metadata": {
        "id": "PzDjLKhvHRqh"
      }
    },
    {
      "cell_type": "markdown",
      "source": [
        "**19. Explain the purpose of __str__ and __repr__ methods in Python?**\n",
        "\n",
        "->__str__: Returns a readable, user-friendly string representation of an object.\n",
        "\n",
        "->__repr__: Returns an unambiguous string representation useful for debugging."
      ],
      "metadata": {
        "id": "VYbm6q9KHRkL"
      }
    },
    {
      "cell_type": "markdown",
      "source": [
        "**20. What is the significance of the super() function in Python?**\n",
        "\n",
        "->The super() function is used to call methods from a parent class, enabling reuse and avoiding redundancy."
      ],
      "metadata": {
        "id": "649VPO_vHReE"
      }
    },
    {
      "cell_type": "markdown",
      "source": [
        "**21. What is the significance of the __del__ method in Python?**\n",
        "\n",
        "->The __del__ method is a destructor called when an object is deleted or goes out of scope.\n",
        "\n"
      ],
      "metadata": {
        "id": "4gDXw1inHRXr"
      }
    },
    {
      "cell_type": "markdown",
      "source": [
        "**22. What is the difference between @staticmethod and @classmethod in Python?**\n",
        "\n",
        "**@staticmethod:** Does not take cls or self as parameters and cannot access class-level attributes.\n",
        "\n",
        "**@classmethod:** Takes cls as a parameter and can modify class-level attributes."
      ],
      "metadata": {
        "id": "Vhu7c9UcHROJ"
      }
    },
    {
      "cell_type": "markdown",
      "source": [
        "**23. How does polymorphism work in Python with inheritance?**\n",
        "\n",
        "->In Python, polymorphism allows derived classes to redefine parent class methods. The isinstance or method overriding enables this behavior dynamically.\n",
        "\n"
      ],
      "metadata": {
        "id": "Tynrm7H0HRGg"
      }
    },
    {
      "cell_type": "markdown",
      "source": [
        "**24. What is method chaining in Python OOP?**\n",
        "\n",
        "Method chaining in Python (and in Object-Oriented Programming in general) refers to the practice of calling multiple methods on the same object in a single line of code. Each method returns the object itself (or another object) so that additional methods can be invoked on the returned object.\n",
        "\n",
        "In simpler terms, method chaining allows you to perform multiple actions on an object without needing to repeat the object's name."
      ],
      "metadata": {
        "id": "ITjxGOv7Wb9U"
      }
    },
    {
      "cell_type": "markdown",
      "source": [
        "**25. What is the purpose of the __call__ method in Python?**\n",
        "\n",
        "->The __call__ method allows an object to be called as a function.\n",
        "\n",
        "    class CallableExample:\n",
        "    def __call__(self):\n",
        "        print(\"Object called as a function\")\n",
        "\n",
        "    obj = CallableExample()\n",
        "    obj()"
      ],
      "metadata": {
        "id": "2oxYhD6yN4g_"
      }
    },
    {
      "cell_type": "markdown",
      "source": [
        "## Practical Questions"
      ],
      "metadata": {
        "id": "E0GXHIRROtJA"
      }
    },
    {
      "cell_type": "code",
      "source": [
        "#1  Create a parent class Animal with a method speak() that prints a generic message. Create a child class Dog that overrides the speak() method to print \"Bark!\".\n",
        "class Animal:\n",
        "    def speak(self):\n",
        "        print(\"Generic animal sound\")\n",
        "\n",
        "class Dog(Animal):\n",
        "    def speak(self):\n",
        "        print(\"Bark!\")\n",
        "\n",
        "# Usage\n",
        "dog = Dog()\n",
        "dog.speak()\n"
      ],
      "metadata": {
        "colab": {
          "base_uri": "https://localhost:8080/"
        },
        "id": "dNFM8kfCPEiy",
        "outputId": "a0ad5ab9-3334-445b-9a22-41cc8ed77255"
      },
      "execution_count": 10,
      "outputs": [
        {
          "output_type": "stream",
          "name": "stdout",
          "text": [
            "Bark!\n"
          ]
        }
      ]
    },
    {
      "cell_type": "code",
      "source": [
        "#2 . Write a program to create an abstract class Shape with a method area(). Derive classes Circle and Rectangle from it and implement the area() method in both. from abc import ABC, abstractmethod\n",
        "\n",
        "from abc import ABC, abstractmethod\n",
        "\n",
        "class Shape(ABC):\n",
        "    @abstractmethod\n",
        "    def area(self):\n",
        "        pass\n",
        "\n",
        "class Circle(Shape):\n",
        "    def __init__(self, radius):\n",
        "        self.radius = radius\n",
        "\n",
        "    def area(self):\n",
        "        return 3.14 * self.radius * self.radius\n",
        "\n",
        "class Rectangle(Shape):\n",
        "    def __init__(self, length, width):\n",
        "        self.length = length\n",
        "        self.width = width\n",
        "\n",
        "    def area(self):\n",
        "        return self.length * self.width\n",
        "\n",
        "# Example usage\n",
        "circle = Circle(5)\n",
        "print(f\"Circle Area: {circle.area()}\")\n",
        "\n",
        "rectangle = Rectangle(4, 6)\n",
        "print(f\"Rectangle Area: {rectangle.area()}\")\n"
      ],
      "metadata": {
        "colab": {
          "base_uri": "https://localhost:8080/"
        },
        "id": "mz_IArpnQF3z",
        "outputId": "8bede9ad-d280-4219-b425-de01bd1b8ce9"
      },
      "execution_count": 37,
      "outputs": [
        {
          "output_type": "stream",
          "name": "stdout",
          "text": [
            "Circle Area: 78.5\n",
            "Rectangle Area: 24\n"
          ]
        }
      ]
    },
    {
      "cell_type": "code",
      "source": [
        "#3 Implement a multi-level inheritance scenario where a class Vehicle has an attribute type. Derive a class Car and further derive a class ElectricCar that adds a battery attribute.\n",
        "class Vehicle:\n",
        "    def __init__(self, type_of_vehicle):\n",
        "        self.type = type_of_vehicle\n",
        "\n",
        "class Car(Vehicle):\n",
        "    def __init__(self, type_of_vehicle, brand):\n",
        "        super().__init__(type_of_vehicle)\n",
        "        self.brand = brand\n",
        "\n",
        "class ElectricCar(Car):\n",
        "    def __init__(self, type_of_vehicle, brand, battery_capacity):\n",
        "        super().__init__(type_of_vehicle, brand)\n",
        "        self.battery_capacity = battery_capacity\n",
        "\n",
        "# Example usage\n",
        "electric_car = ElectricCar(\"Electric\", \"Tesla\", 75)\n",
        "print(f\"Electric Car Type: {electric_car.type}, Brand: {electric_car.brand}, Battery Capacity: {electric_car.battery_capacity} kWh\")\n",
        "\n"
      ],
      "metadata": {
        "colab": {
          "base_uri": "https://localhost:8080/"
        },
        "id": "8PHATm5fQdRe",
        "outputId": "60461bab-9c09-4743-a98c-bef3cbf7b799"
      },
      "execution_count": 39,
      "outputs": [
        {
          "output_type": "stream",
          "name": "stdout",
          "text": [
            "Electric Car Type: Electric, Brand: Tesla, Battery Capacity: 75 kWh\n"
          ]
        }
      ]
    },
    {
      "cell_type": "code",
      "source": [
        "#4 Implement a multi-level inheritance scenario where a class Vehicle has an attribute type. Derive a class Car and further derive a class ElectricCar that adds a battery attribute.\n",
        "\n",
        "class Vehicle:\n",
        "    def __init__(self, type_of_vehicle):\n",
        "        self.type = type_of_vehicle\n",
        "\n",
        "class Car(Vehicle):\n",
        "    def __init__(self, type_of_vehicle, brand):\n",
        "        super().__init__(type_of_vehicle)\n",
        "        self.brand = brand\n",
        "\n",
        "class ElectricCar(Car):\n",
        "    def __init__(self, type_of_vehicle, brand, battery_capacity):\n",
        "        super().__init__(type_of_vehicle, brand)\n",
        "        self.battery_capacity = battery_capacity\n",
        "\n",
        "# Example usage\n",
        "electric_car = ElectricCar(\"Electric\", \"Tesla\", 75)\n",
        "print(f\"Electric Car Type: {electric_car.type}, Brand: {electric_car.brand}, Battery Capacity: {electric_car.battery_capacity} kWh\")\n",
        "\n"
      ],
      "metadata": {
        "colab": {
          "base_uri": "https://localhost:8080/"
        },
        "id": "R4X1sngxQ0xZ",
        "outputId": "bc45fa91-5c1e-4103-d78e-90ee30490206"
      },
      "execution_count": 40,
      "outputs": [
        {
          "output_type": "stream",
          "name": "stdout",
          "text": [
            "Electric Car Type: Electric, Brand: Tesla, Battery Capacity: 75 kWh\n"
          ]
        }
      ]
    },
    {
      "cell_type": "code",
      "source": [
        "#5  Demonstrate encapsulation with a class BankAccount that has private attributes balance and methods to deposit, withdraw, and check balance.\n",
        "class BankAccount:\n",
        "    def __init__(self, balance):\n",
        "        self.__balance = balance  # Private attribute\n",
        "\n",
        "    def deposit(self, amount):\n",
        "        if amount > 0:\n",
        "            self.__balance += amount\n",
        "            print(f\"Deposited ${amount}. New balance: ${self.__balance}\")\n",
        "        else:\n",
        "            print(\"Deposit amount must be positive.\")\n",
        "\n",
        "    def withdraw(self, amount):\n",
        "        if 0 < amount <= self.__balance:\n",
        "            self.__balance -= amount\n",
        "            print(f\"Withdrew ${amount}. New balance: ${self.__balance}\")\n",
        "        else:\n",
        "            print(\"Insufficient balance or invalid amount.\")\n",
        "\n",
        "    def check_balance(self):\n",
        "        return f\"Current balance: ${self.__balance}\"\n",
        "\n",
        "# Example usage\n",
        "account = BankAccount(500)\n",
        "account.deposit(200)\n",
        "account.withdraw(150)\n",
        "print(account.check_balance())\n",
        "\n"
      ],
      "metadata": {
        "colab": {
          "base_uri": "https://localhost:8080/"
        },
        "id": "--5Al2aSRAwx",
        "outputId": "5ef0abe6-d7d2-46fb-a439-bd6f3294306b"
      },
      "execution_count": 41,
      "outputs": [
        {
          "output_type": "stream",
          "name": "stdout",
          "text": [
            "Deposited $200. New balance: $700\n",
            "Withdrew $150. New balance: $550\n",
            "Current balance: $550\n"
          ]
        }
      ]
    },
    {
      "cell_type": "code",
      "source": [
        "#6 . Demonstrate runtime polymorphism using a method play() in a base class Instrument. Derive classes Guitar and Piano that implement their own version of play().\n",
        "\n",
        "class Instrument:\n",
        "    def play(self):\n",
        "        raise NotImplementedError(\"Subclass must implement play method\")\n",
        "\n",
        "class Guitar(Instrument):\n",
        "    def play(self):\n",
        "        return \"Playing guitar\"\n",
        "\n",
        "class Piano(Instrument):\n",
        "    def play(self):\n",
        "        return \"Playing piano\"\n",
        "\n",
        "# Example usage\n",
        "guitar = Guitar()\n",
        "piano = Piano()\n",
        "\n",
        "print(guitar.play())  # Runtime Polymorphism\n",
        "print(piano.play())   # Runtime Polymorphism\n",
        "\n",
        "\n"
      ],
      "metadata": {
        "colab": {
          "base_uri": "https://localhost:8080/"
        },
        "id": "ZN5xyCKHSxrR",
        "outputId": "1b3d6ff2-8f16-44d3-f659-0eb1555c935e"
      },
      "execution_count": 42,
      "outputs": [
        {
          "output_type": "stream",
          "name": "stdout",
          "text": [
            "Playing guitar\n",
            "Playing piano\n"
          ]
        }
      ]
    },
    {
      "cell_type": "code",
      "source": [
        "#7 Create a class MathOperations with a class method add_numbers() to add two numbers and a static method subtract_numbers() to subtract two numbers.\n",
        "class MathOperations:\n",
        "    @classmethod\n",
        "    def add_numbers(cls, a, b):\n",
        "        return a + b\n",
        "\n",
        "    @staticmethod\n",
        "    def subtract_numbers(a, b):\n",
        "        return a - b\n",
        "\n",
        "# Example usage\n",
        "sum_result = MathOperations.add_numbers(10, 5)\n",
        "difference_result = MathOperations.subtract_numbers(10, 5)\n",
        "\n",
        "print(f\"Sum: {sum_result}\")\n",
        "print(f\"Difference: {difference_result}\")\n",
        "\n"
      ],
      "metadata": {
        "colab": {
          "base_uri": "https://localhost:8080/"
        },
        "id": "Yt7EvCXhTFV_",
        "outputId": "a3eafbf0-2753-4afc-f4cb-79dd3f4703b3"
      },
      "execution_count": 43,
      "outputs": [
        {
          "output_type": "stream",
          "name": "stdout",
          "text": [
            "Sum: 15\n",
            "Difference: 5\n"
          ]
        }
      ]
    },
    {
      "cell_type": "code",
      "source": [
        "#8 Implement a class Person with a class method to count the total number of persons created.\n",
        "class Person:\n",
        "    person_count = 0\n",
        "\n",
        "    def __init__(self, name):\n",
        "        self.name = name\n",
        "        Person.person_count += 1\n",
        "\n",
        "    @classmethod\n",
        "    def total_persons(cls):\n",
        "        return f\"Total persons created: {cls.person_count}\"\n",
        "\n",
        "# Example usage\n",
        "person1 = Person(\"Alice\")\n",
        "person2 = Person(\"Bob\")\n",
        "\n",
        "print(Person.total_persons())\n",
        "\n"
      ],
      "metadata": {
        "colab": {
          "base_uri": "https://localhost:8080/"
        },
        "id": "pkY0S630T5X6",
        "outputId": "7fb4d5a5-27f2-4108-a761-8ab24cea5030"
      },
      "execution_count": 44,
      "outputs": [
        {
          "output_type": "stream",
          "name": "stdout",
          "text": [
            "Total persons created: 2\n"
          ]
        }
      ]
    },
    {
      "cell_type": "code",
      "source": [
        "#9 Write a class Fraction with attributes numerator and denominator. Override the __str__ method to display the fraction as \"numerator/denominator\".\n",
        "class Fraction:\n",
        "    def __init__(self, numerator, denominator):\n",
        "        self.numerator = numerator\n",
        "        self.denominator = denominator\n",
        "\n",
        "    def __str__(self):\n",
        "        return f\"{self.numerator}/{self.denominator}\"\n",
        "\n",
        "# Example usage\n",
        "fraction = Fraction(3, 4)\n",
        "print(f\"Fraction: {fraction}\")  # Calls __str__ method\n",
        "\n"
      ],
      "metadata": {
        "colab": {
          "base_uri": "https://localhost:8080/"
        },
        "id": "3jiLnKFgUBwo",
        "outputId": "7c4c54cf-5be5-41ef-a7a8-cdd248b7562d"
      },
      "execution_count": 45,
      "outputs": [
        {
          "output_type": "stream",
          "name": "stdout",
          "text": [
            "Fraction: 3/4\n"
          ]
        }
      ]
    },
    {
      "cell_type": "code",
      "source": [
        "#10 Demonstrate operator overloading by creating a class Vector and overriding the + operator to add two vectors.\n",
        "class Vector:\n",
        "    def __init__(self, x, y):\n",
        "        self.x = x\n",
        "        self.y = y\n",
        "\n",
        "    def __add__(self, other):\n",
        "        return Vector(self.x + other.x, self.y + other.y)\n",
        "\n",
        "    def __str__(self):\n",
        "        return f\"({self.x}, {self.y})\"\n",
        "\n",
        "# Example usage\n",
        "v1 = Vector(2, 3)\n",
        "v2 = Vector(4, 5)\n",
        "v3 = v1 + v2  # Using the overloaded + operator\n",
        "print(f\"Result of vector addition: {v3}\")\n",
        "\n"
      ],
      "metadata": {
        "colab": {
          "base_uri": "https://localhost:8080/"
        },
        "id": "4xJIbb6jUHMX",
        "outputId": "a4983818-5ed7-430d-89a6-8d6d419b5aa4"
      },
      "execution_count": 46,
      "outputs": [
        {
          "output_type": "stream",
          "name": "stdout",
          "text": [
            "Result of vector addition: (6, 8)\n"
          ]
        }
      ]
    },
    {
      "cell_type": "code",
      "source": [
        "#11 Create a class Person with attributes name and age. Add a method greet() that prints \"Hello, my name is {name} and I am {age} years old.\"\n",
        "\n",
        "class Person:\n",
        "    def __init__(self, name, age):\n",
        "        self.name = name\n",
        "        self.age = age\n",
        "\n",
        "    def greet(self):\n",
        "        print(f\"Hello, my name is {self.name} and I am {self.age} years old.\")\n",
        "\n",
        "# Example usage\n",
        "person = Person(\"Alice\", 30)\n",
        "person.greet()\n",
        "\n",
        "\n"
      ],
      "metadata": {
        "colab": {
          "base_uri": "https://localhost:8080/"
        },
        "id": "0AMc3zQLUPgK",
        "outputId": "1ace3cf6-f286-496d-ce23-1c3dc0758be4"
      },
      "execution_count": 47,
      "outputs": [
        {
          "output_type": "stream",
          "name": "stdout",
          "text": [
            "Hello, my name is Alice and I am 30 years old.\n"
          ]
        }
      ]
    },
    {
      "cell_type": "code",
      "source": [
        "#12 Implement a class Student with attributes name and grades. Create a method average_grade() to compute the average of the grades.\n",
        "\n",
        "class Student:\n",
        "    def __init__(self, name, grades):\n",
        "        self.name = name\n",
        "        self.grades = grades\n",
        "\n",
        "    def average_grade(self):\n",
        "        return sum(self.grades) / len(self.grades) if self.grades else 0\n",
        "\n",
        "# Example usage\n",
        "student = Student(\"John\", [85, 90, 78, 92])\n",
        "print(f\"Average grade: {student.average_grade()}\")\n"
      ],
      "metadata": {
        "colab": {
          "base_uri": "https://localhost:8080/"
        },
        "id": "hqC36bz1UeKV",
        "outputId": "095ff04b-e5bc-4229-e075-5834c91b00e0"
      },
      "execution_count": 48,
      "outputs": [
        {
          "output_type": "stream",
          "name": "stdout",
          "text": [
            "Average grade: 86.25\n"
          ]
        }
      ]
    },
    {
      "cell_type": "code",
      "source": [
        "#13 Create a class Rectangle with methods set_dimensions() to set the dimensions and area() to calculate the area.\n",
        "class Rectangle:\n",
        "    def __init__(self):\n",
        "        self.length = 0\n",
        "        self.width = 0\n",
        "\n",
        "    def set_dimensions(self, length, width):\n",
        "        self.length = length\n",
        "        self.width = width\n",
        "\n",
        "    def area(self):\n",
        "        return self.length * self.width\n",
        "\n",
        "# Example usage\n",
        "rectangle = Rectangle()\n",
        "rectangle.set_dimensions(5, 3)\n",
        "print(f\"Area of rectangle: {rectangle.area()}\")\n",
        "\n"
      ],
      "metadata": {
        "colab": {
          "base_uri": "https://localhost:8080/"
        },
        "id": "tWBHE6wZUkOh",
        "outputId": "781544d3-e5d8-436c-9ad1-cf50fe78ddfd"
      },
      "execution_count": 49,
      "outputs": [
        {
          "output_type": "stream",
          "name": "stdout",
          "text": [
            "Area of rectangle: 15\n"
          ]
        }
      ]
    },
    {
      "cell_type": "code",
      "source": [
        "#14 Create a class Employee with a method calculate_salary() that computes the salary based on hours worked and hourly rate. Create a derived class Manager that adds a bonus to the salary.\n",
        "class Employee:\n",
        "    def __init__(self, name, hours_worked, hourly_rate):\n",
        "        self.name = name\n",
        "        self.hours_worked = hours_worked\n",
        "        self.hourly_rate = hourly_rate\n",
        "\n",
        "    def calculate_salary(self):\n",
        "        return self.hours_worked * self.hourly_rate\n",
        "\n",
        "class Manager(Employee):\n",
        "    def __init__(self, name, hours_worked, hourly_rate, bonus):\n",
        "        super().__init__(name, hours_worked, hourly_rate)\n",
        "        self.bonus = bonus\n",
        "\n",
        "    def calculate_salary(self):\n",
        "        base_salary = super().calculate_salary()\n",
        "        return base_salary + self.bonus\n",
        "\n",
        "# Example usage\n",
        "employee = Employee(\"Alice\", 40, 25)\n",
        "manager = Manager(\"Bob\", 40, 30, 500)\n",
        "\n",
        "print(f\"Employee salary: ${employee.calculate_salary()}\")\n",
        "print(f\"Manager salary: ${manager.calculate_salary()}\")\n",
        "\n"
      ],
      "metadata": {
        "colab": {
          "base_uri": "https://localhost:8080/"
        },
        "id": "QmZPdGdtUsVw",
        "outputId": "e9b2dd6d-5f55-4540-d8ec-6dc15fc74671"
      },
      "execution_count": 50,
      "outputs": [
        {
          "output_type": "stream",
          "name": "stdout",
          "text": [
            "Employee salary: $1000\n",
            "Manager salary: $1700\n"
          ]
        }
      ]
    },
    {
      "cell_type": "code",
      "source": [
        "#15 Create a class Product with attributes name, price, and quantity. Implement a method total_price() that calculates the total price of the product.\n",
        "class Product:\n",
        "    def __init__(self, name, price, quantity):\n",
        "        self.name = name\n",
        "        self.price = price\n",
        "        self.quantity = quantity\n",
        "\n",
        "    def total_price(self):\n",
        "        return self.price * self.quantity\n",
        "\n",
        "# Example usage\n",
        "product = Product(\"Laptop\", 1000, 3)\n",
        "print(f\"Total price for {product.quantity} {product.name}(s): ${product.total_price()}\")\n",
        "\n"
      ],
      "metadata": {
        "colab": {
          "base_uri": "https://localhost:8080/"
        },
        "id": "AxgwjlidUzX0",
        "outputId": "cf0a8b00-52fc-4490-8f2b-70935394d323"
      },
      "execution_count": 51,
      "outputs": [
        {
          "output_type": "stream",
          "name": "stdout",
          "text": [
            "Total price for 3 Laptop(s): $3000\n"
          ]
        }
      ]
    },
    {
      "cell_type": "code",
      "source": [
        "#16  Create a class Animal with an abstract method sound(). Create two derived classes Cow and Sheep that implement the sound() method.\n",
        "from abc import ABC, abstractmethod\n",
        "\n",
        "class Animal(ABC):\n",
        "    @abstractmethod\n",
        "    def sound(self):\n",
        "        pass\n",
        "\n",
        "class Cow(Animal):\n",
        "    def sound(self):\n",
        "        return \"Moo\"\n",
        "\n",
        "class Sheep(Animal):\n",
        "    def sound(self):\n",
        "        return \"Baa\"\n",
        "\n",
        "# Example usage\n",
        "cow = Cow()\n",
        "sheep = Sheep()\n",
        "\n",
        "print(f\"Cow makes the sound: {cow.sound()}\")\n",
        "print(f\"Sheep makes the sound: {sheep.sound()}\")\n"
      ],
      "metadata": {
        "colab": {
          "base_uri": "https://localhost:8080/"
        },
        "id": "zz9N392KU5qs",
        "outputId": "05b99ab8-53be-4b16-ce9b-1061d80a3135"
      },
      "execution_count": 35,
      "outputs": [
        {
          "output_type": "stream",
          "name": "stdout",
          "text": [
            "Cow makes the sound: Moo\n",
            "Sheep makes the sound: Baa\n"
          ]
        }
      ]
    },
    {
      "cell_type": "code",
      "source": [
        " #17 Create a class Book with attributes title, author, and year_published. Add a method get_book_info() that returns a formatted string with the book's details.\n",
        " class Book:\n",
        "    def __init__(self, title, author, year_published):\n",
        "        self.title = title\n",
        "        self.author = author\n",
        "        self.year_published = year_published\n",
        "\n",
        "    def get_book_info(self):\n",
        "        return f\"'{self.title}' by {self.author}, published in {self.year_published}\"\n",
        "        # Example usage:\n",
        "book = Book(\"To Kill a Mockingbird\", \"Harper Lee\", 1960)\n",
        "print(book.get_book_info())\n"
      ],
      "metadata": {
        "colab": {
          "base_uri": "https://localhost:8080/"
        },
        "id": "NbQMnupOVXn8",
        "outputId": "6e8fb033-32a4-4a5d-a74c-dd8de40e949c"
      },
      "execution_count": 36,
      "outputs": [
        {
          "output_type": "stream",
          "name": "stdout",
          "text": [
            "'To Kill a Mockingbird' by Harper Lee, published in 1960\n"
          ]
        }
      ]
    },
    {
      "cell_type": "code",
      "source": [
        "#18  Create a class House with attributes address and price. Create a derived class Mansion that adds an attribute number_of_rooms.\n",
        "class House:\n",
        "    def __init__(self, address, price):\n",
        "        self.address = address\n",
        "        self.price = price\n",
        "\n",
        "    def display_info(self):\n",
        "        return f\"Address: {self.address}, Price: ${self.price}\"\n",
        "\n",
        "class Mansion(House):\n",
        "    def __init__(self, address, price, number_of_rooms):\n",
        "        super().__init__(address, price)\n",
        "        self.number_of_rooms = number_of_rooms\n",
        "\n",
        "    def display_info(self):\n",
        "        base_info = super().display_info()\n",
        "        return f\"{base_info}, Number of Rooms: {self.number_of_rooms}\"\n",
        "\n",
        "# Example usage\n",
        "house = House(\"123 Main St\", 300000)\n",
        "print(house.display_info())\n",
        "\n",
        "mansion = Mansion(\"456 Luxury Ln\", 2000000, 15)\n",
        "print(mansion.display_info())\n"
      ],
      "metadata": {
        "colab": {
          "base_uri": "https://localhost:8080/"
        },
        "id": "vQ9PrGlnVdxy",
        "outputId": "94e93b07-5988-44c9-ec88-5ddaca16c763"
      },
      "execution_count": 34,
      "outputs": [
        {
          "output_type": "stream",
          "name": "stdout",
          "text": [
            "Address: 123 Main St, Price: $300000\n",
            "Address: 456 Luxury Ln, Price: $2000000, Number of Rooms: 15\n"
          ]
        }
      ]
    },
    {
      "cell_type": "code",
      "source": [],
      "metadata": {
        "id": "bXf-75jZV0P3"
      },
      "execution_count": null,
      "outputs": []
    }
  ]
}